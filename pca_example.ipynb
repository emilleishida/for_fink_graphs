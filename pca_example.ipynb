{
 "cells": [
  {
   "cell_type": "code",
   "execution_count": 16,
   "id": "1b8543e2-09d8-4823-ad98-74b77f41e331",
   "metadata": {},
   "outputs": [],
   "source": [
    "import matplotlib.pyplot as plt\n",
    "import corner\n",
    "\n",
    "from sklearn import datasets\n",
    "from sklearn.decomposition import PCA"
   ]
  },
  {
   "cell_type": "markdown",
   "id": "a3268926-937d-44b6-b19c-58276b361536",
   "metadata": {},
   "source": [
    "# PCA example"
   ]
  },
  {
   "cell_type": "code",
   "execution_count": 15,
   "id": "ac968140-5549-4975-bc14-a332be59bbb0",
   "metadata": {},
   "outputs": [],
   "source": [
    "# load data set\n",
    "iris = datasets.load_iris()\n",
    "\n",
    "X = iris.data                   # this is the data matrix, in our case the features from Igor\n",
    "                                # features from different bands should be concatenated in the same line for 1 obj\n",
    "                                # I advise starting with applying pca separately in each filter\n",
    "                                # so 1 input matrix for g and another one for r\n",
    "\n",
    "pca = PCA(n_components=0.99)    # build PCA object, we are asking for the number of components \n",
    "                                # necessary to retain 99% of the variance in the data\n",
    "    \n",
    "X_r = pca.fit(X).transform(X)    # the matrix results. Each line is one object (in the same order as the input matrix) \n",
    "                                 # in a new, not-correlated coordinate system. This can be used for further studies and\n",
    "                                 # each column is independent. "
   ]
  },
  {
   "cell_type": "markdown",
   "id": "b5e1d8f7-e359-4e1a-9300-d022e5a993d2",
   "metadata": {},
   "source": [
    "Applying this separately for zg and ar bands will generate 1 matrix for each filter. \n",
    "This should be concatenated in one line for each object and the final matrix used for subsequent analysis\n"
   ]
  },
  {
   "cell_type": "code",
   "execution_count": null,
   "id": "b3c5ba0f-5eb9-48b4-a7da-e578e58aa5e7",
   "metadata": {},
   "outputs": [],
   "source": []
  }
 ],
 "metadata": {
  "kernelspec": {
   "display_name": "Python 3 (ipykernel)",
   "language": "python",
   "name": "python3"
  },
  "language_info": {
   "codemirror_mode": {
    "name": "ipython",
    "version": 3
   },
   "file_extension": ".py",
   "mimetype": "text/x-python",
   "name": "python",
   "nbconvert_exporter": "python",
   "pygments_lexer": "ipython3",
   "version": "3.7.1"
  }
 },
 "nbformat": 4,
 "nbformat_minor": 5
}
